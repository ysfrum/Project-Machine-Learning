{
 "cells": [
  {
   "cell_type": "code",
   "execution_count": 1,
   "metadata": {},
   "outputs": [],
   "source": [
    "import sklearn.ensemble as ens \n",
    "rf = ens.RandomForestClassifier(n_estimators = 100)"
   ]
  },
  {
   "cell_type": "code",
   "execution_count": 2,
   "metadata": {},
   "outputs": [],
   "source": [
    "import pandas as pd \n",
    "import sklearn.model_selection as ms \n",
    "\n",
    "df1 = pd.read_csv(r\"E:\\File Program\\Semester II\\Jupyter Notebook\\Data Latihan\\data\\New folder (3)\\decisiontree_ch6.csv\")\n",
    "encoding = {\n",
    "    'mesin': {'bensin': 0, 'diesel': 1},\n",
    "    'penggerak': {'depan': 0, 'belakang': 1}\n",
    "}\n",
    "\n",
    "df1.replace(encoding, inplace = True)\n",
    "X = df1.drop(['ID', 'label'], axis = 1)\n",
    "y = df1['label']\n",
    "X_train, X_test, y_train, y_test = ms.train_test_split(X, y, test_size = 0.2)"
   ]
  },
  {
   "cell_type": "code",
   "execution_count": 3,
   "metadata": {},
   "outputs": [
    {
     "data": {
      "text/plain": [
       "RandomForestClassifier()"
      ]
     },
     "execution_count": 3,
     "metadata": {},
     "output_type": "execute_result"
    }
   ],
   "source": [
    "rf.fit(X_train, y_train)"
   ]
  },
  {
   "cell_type": "code",
   "execution_count": 4,
   "metadata": {},
   "outputs": [],
   "source": [
    "y_prediksi = rf.predict(X_test)"
   ]
  },
  {
   "cell_type": "code",
   "execution_count": 5,
   "metadata": {},
   "outputs": [
    {
     "name": "stdout",
     "output_type": "stream",
     "text": [
      "Hasil akurasi sebesar 87.5%\n"
     ]
    }
   ],
   "source": [
    "import sklearn.metrics as met \n",
    "\n",
    "akurasi = met.accuracy_score(y_test, y_prediksi)\n",
    "print('Hasil akurasi sebesar', str(akurasi * 100) + '%')"
   ]
  },
  {
   "cell_type": "code",
   "execution_count": 6,
   "metadata": {},
   "outputs": [
    {
     "name": "stdout",
     "output_type": "stream",
     "text": [
      "Hasil score feature: [27.78189031 42.3933456  29.82476409]%\n"
     ]
    }
   ],
   "source": [
    "score = rf.feature_importances_\n",
    "print('Hasil score feature:', str(score * 100) + '%')"
   ]
  }
 ],
 "metadata": {
  "interpreter": {
   "hash": "b7baba20b4f9db4e9d1265c617609b407f4c55b0f887bae201718c805d8818cf"
  },
  "kernelspec": {
   "display_name": "Python 3.9.7 ('base')",
   "language": "python",
   "name": "python3"
  },
  "language_info": {
   "codemirror_mode": {
    "name": "ipython",
    "version": 3
   },
   "file_extension": ".py",
   "mimetype": "text/x-python",
   "name": "python",
   "nbconvert_exporter": "python",
   "pygments_lexer": "ipython3",
   "version": "3.9.7"
  },
  "orig_nbformat": 4
 },
 "nbformat": 4,
 "nbformat_minor": 2
}
