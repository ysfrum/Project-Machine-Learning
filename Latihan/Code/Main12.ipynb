{
 "cells": [
  {
   "cell_type": "code",
   "execution_count": 1,
   "metadata": {},
   "outputs": [
    {
     "data": {
      "text/html": [
       "<div>\n",
       "<style scoped>\n",
       "    .dataframe tbody tr th:only-of-type {\n",
       "        vertical-align: middle;\n",
       "    }\n",
       "\n",
       "    .dataframe tbody tr th {\n",
       "        vertical-align: top;\n",
       "    }\n",
       "\n",
       "    .dataframe thead th {\n",
       "        text-align: right;\n",
       "    }\n",
       "</style>\n",
       "<table border=\"1\" class=\"dataframe\">\n",
       "  <thead>\n",
       "    <tr style=\"text-align: right;\">\n",
       "      <th></th>\n",
       "      <th>Dok/Kata;bola;pemain;klub;saham;uang;ilmu;tani;bunga</th>\n",
       "    </tr>\n",
       "  </thead>\n",
       "  <tbody>\n",
       "    <tr>\n",
       "      <th>0</th>\n",
       "      <td>D1-OR;5;10;2;0;2;0;0;0</td>\n",
       "    </tr>\n",
       "    <tr>\n",
       "      <th>1</th>\n",
       "      <td>D2-OR;0;4;5;0;1;0;0;0</td>\n",
       "    </tr>\n",
       "    <tr>\n",
       "      <th>2</th>\n",
       "      <td>D3-EK;2;4;4;6;8;1;0;1</td>\n",
       "    </tr>\n",
       "    <tr>\n",
       "      <th>3</th>\n",
       "      <td>D4-EK;0;2;0;3;9;1;0;4</td>\n",
       "    </tr>\n",
       "    <tr>\n",
       "      <th>4</th>\n",
       "      <td>D5-EK;0;0;0;0;5;0;0;1</td>\n",
       "    </tr>\n",
       "    <tr>\n",
       "      <th>5</th>\n",
       "      <td>D6-IP;0;0;3;0;2;4;3;6</td>\n",
       "    </tr>\n",
       "    <tr>\n",
       "      <th>6</th>\n",
       "      <td>D7-IP;0;0;4;0;0;5;1;4</td>\n",
       "    </tr>\n",
       "    <tr>\n",
       "      <th>7</th>\n",
       "      <td>D8-X;6;8;3;0;1;0;0;2</td>\n",
       "    </tr>\n",
       "  </tbody>\n",
       "</table>\n",
       "</div>"
      ],
      "text/plain": [
       "  Dok/Kata;bola;pemain;klub;saham;uang;ilmu;tani;bunga\n",
       "0                             D1-OR;5;10;2;0;2;0;0;0  \n",
       "1                              D2-OR;0;4;5;0;1;0;0;0  \n",
       "2                              D3-EK;2;4;4;6;8;1;0;1  \n",
       "3                              D4-EK;0;2;0;3;9;1;0;4  \n",
       "4                              D5-EK;0;0;0;0;5;0;0;1  \n",
       "5                              D6-IP;0;0;3;0;2;4;3;6  \n",
       "6                              D7-IP;0;0;4;0;0;5;1;4  \n",
       "7                               D8-X;6;8;3;0;1;0;0;2  "
      ]
     },
     "execution_count": 1,
     "metadata": {},
     "output_type": "execute_result"
    }
   ],
   "source": [
    "import pandas as pd\n",
    "\n",
    "df1 = pd.read_csv(r\"E:\\File Tugas\\Semester II\\Tugas Computation\\Book1.csv\")\n",
    "df1"
   ]
  },
  {
   "cell_type": "code",
   "execution_count": 3,
   "metadata": {},
   "outputs": [
    {
     "name": "stdout",
     "output_type": "stream",
     "text": [
      "[['D1-OR;5;10;2;0;2;0;0;0', 0, ' 0.00000'],\n",
      " ['D2-OR;0;4;5;0;1;0;0;0', 0, ' 0.00000'],\n",
      " ['D3-EK;2;4;4;6;8;1;0;1', 0, ' 0.00000'],\n",
      " ['D4-EK;0;2;0;3;9;1;0;4', 0, ' 0.00000'],\n",
      " ['D5-EK;0;0;0;0;5;0;0;1', 0, ' 0.00000'],\n",
      " ['D6-IP;0;0;3;0;2;4;3;6', 0, ' 0.00000'],\n",
      " ['D7-IP;0;0;4;0;0;5;1;4', 0, ' 0.00000'],\n",
      " ['D8-X;6;8;3;0;1;0;0;2', 0, ' 0.00000']]\n",
      "D8-X to D1-OR;5;10;2;0;2;0;0;0 =  0.00000\n",
      "D8-X to D2-OR;0;4;5;0;1;0;0;0 =  0.00000\n",
      "D8-X to D3-EK;2;4;4;6;8;1;0;1 =  0.00000\n"
     ]
    }
   ],
   "source": [
    "import csv\n",
    "from multiprocessing import dummy\n",
    "from pprint import PrettyPrinter\n",
    "import math\n",
    "from operator import itemgetter\n",
    "\n",
    "printer = PrettyPrinter()\n",
    "\n",
    "df1 = open(\"E:\\File Tugas\\Semester II\\Tugas Computation\\knn.csv\")\n",
    "type(df1)\n",
    "\n",
    "csvreader = csv.reader(df1)\n",
    "\n",
    "header = []\n",
    "header = next(csvreader)\n",
    "# printer.pprint(header)\n",
    "\n",
    "rows = []\n",
    "for row in csvreader:\n",
    "    rows.append(row)\n",
    "# printer.pprint(rows)\n",
    "\n",
    "target = [\"D8-X\", 6, 8, 3, 0, 1, 0, 0, 2]\n",
    "\n",
    "resultSum = []\n",
    "resultSqrt = []\n",
    "\n",
    "for row in rows:\n",
    "    i = 1\n",
    "    j = 1\n",
    "    total = 0\n",
    "    for r in row:\n",
    "        if j == 1:\n",
    "            j++1\n",
    "            pass\n",
    "        else:\n",
    "            dummy = pow((int(target[i]) - int(r)), 2)\n",
    "            total == dummy\n",
    "            i++1\n",
    "    row.append(total)\n",
    "    total = math.sqrt(total)\n",
    "    row.append(\"{0: .5f}\".format(total))\n",
    "\n",
    "\n",
    "sorted(rows, key = itemgetter(-1))\n",
    "printer.pprint(rows)\n",
    "\n",
    "\n",
    "k = input(\"Enter the desired k: \")\n",
    "i = 0\n",
    "while i < int(k):\n",
    "    print(f\"{target[0]} to {rows[i][0]} = {rows[i][-1]}\")\n",
    "    i += 1"
   ]
  }
 ],
 "metadata": {
  "interpreter": {
   "hash": "b7baba20b4f9db4e9d1265c617609b407f4c55b0f887bae201718c805d8818cf"
  },
  "kernelspec": {
   "display_name": "Python 3.9.7 ('base')",
   "language": "python",
   "name": "python3"
  },
  "language_info": {
   "codemirror_mode": {
    "name": "ipython",
    "version": 3
   },
   "file_extension": ".py",
   "mimetype": "text/x-python",
   "name": "python",
   "nbconvert_exporter": "python",
   "pygments_lexer": "ipython3",
   "version": "3.9.7 (default, Sep 16 2021, 16:59:28) [MSC v.1916 64 bit (AMD64)]"
  },
  "orig_nbformat": 4
 },
 "nbformat": 4,
 "nbformat_minor": 2
}
