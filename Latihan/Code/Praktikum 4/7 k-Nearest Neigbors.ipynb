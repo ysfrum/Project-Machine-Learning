{
 "cells": [
  {
   "cell_type": "code",
   "execution_count": 1,
   "metadata": {},
   "outputs": [
    {
     "name": "stdout",
     "output_type": "stream",
     "text": [
      "prediksi benar:  20  data\n",
      "prediksi salah:  0  data\n",
      "akurasi:  100.0 %\n"
     ]
    }
   ],
   "source": [
    "#mengimport numpy, pandas dan scipy\n",
    "import numpy as np\n",
    "import pandas as pd\n",
    "from scipy import stats\n",
    "\n",
    "#membaca dataset dari file ke pandas dataFrame\n",
    "irisDataset = pd.read_csv(\"E:\\File Program\\Semester II\\Big Data\\Praktikum 4\\klasifikasi_dataset_csv\\klasifikasi_dataset_iris.csv\", delimiter=',', header=0)\n",
    "#mengubah kelas (kolom \"Species\") dari string ke unique-integer\n",
    "irisDataset[\"Species\"] = pd.factorize(irisDataset.Species)[0]\n",
    "#menghapus kolom \"Id\"\n",
    "irisDataset = irisDataset.drop(labels=\"Id\", axis=1)\n",
    "\n",
    "#mengubah dataframe ke array numpy\n",
    "irisDataset = irisDataset.to_numpy()\n",
    "\n",
    "#membagi dataset, 40 baris data untuk training dan 20 baris data untuk testing\n",
    "dataTraining = np.concatenate((irisDataset[0:40,:],irisDataset[50:90,:]), axis=0)\n",
    "dataTesting = np.concatenate((irisDataset[40:50,:], irisDataset[90:100,:]), axis=0)\n",
    "#memecah dataset ke input dan label\n",
    "inputTraining = dataTraining[:,0:4]\n",
    "inputTesting = dataTesting[:,0:4]\n",
    "labelTraining = dataTraining[:,4]\n",
    "labelTesting = dataTesting[:, 4]\n",
    "\n",
    "k=3#inputnya nilai k-Nearest Neighborsnya\n",
    "#prediksi data testing menggunakan data training\n",
    "matriks_prediksi_kelas = np.ndarray(shape = (0,1))\n",
    "#mengkasting label ke bentuk matriks\n",
    "labelTraining=np.matrix(labelTraining).T\n",
    "for i in range(0,inputTesting.shape[0]):#ulang untuk semua data testing\n",
    "    for j in range(0, inputTraining.shape[0]): #ulang untuk semua data training\n",
    "        #hitung jarak euclidean tiap satu data testing ke semua data training\n",
    "        euclideanDistance = np.square(np.sum((np.tile(\n",
    "            inputTesting[i,:],(inputTraining.shape[0],1))-inputTraining)**2,axis=1))\n",
    "        #mencasting ke variabel matriks\n",
    "        euclideanDistance=np.matrix(euclideanDistance).T\n",
    "        # menambahkan kolom label ke matriks euclidean\n",
    "        matriksEuclideanDanLabel = np.concatenate((euclideanDistance, labelTraining), axis=1)\n",
    "        #sorting matriks berdasarkan jarak euclidean\n",
    "        matriksEuclideanDanLabel = np.asarray(matriksEuclideanDanLabel)#sort harus dalam array\n",
    "        matriksEuclideanDanLabelSorted = matriksEuclideanDanLabel[matriksEuclideanDanLabel[:, 0].argsort()]\n",
    "        #mengambil k-label kelas dengan jarak euclidean plg kecil\n",
    "        k_label=matriksEuclideanDanLabelSorted[0:k,1]\n",
    "        #prediksi adalah kelas dengan kemunculan terbanyak dari k-label\n",
    "        prediksi_kelas = np.matrix(stats.mode(k_label)[0])\n",
    "    #menggabungkan semua prediksi dalam matriks\n",
    "    matriks_prediksi_kelas=np.concatenate((matriks_prediksi_kelas,prediksi_kelas), axis=0)\n",
    "\n",
    "#menghitung akurasi\n",
    "matriks_prediksi_kelas=matriks_prediksi_kelas.ravel()#isi prediksi kelas ada di sini, print jika diperlukan\n",
    "prediksiBenar = (matriks_prediksi_kelas == labelTesting).sum()\n",
    "prediksiSalah = (matriks_prediksi_kelas != labelTesting).sum()\n",
    "print(\"prediksi benar: \", prediksiBenar, \" data\")\n",
    "print(\"prediksi salah: \", prediksiSalah, \" data\")\n",
    "print(\"akurasi: \", prediksiBenar/(prediksiBenar+prediksiSalah) * 100, \"%\")\n"
   ]
  },
  {
   "cell_type": "code",
   "execution_count": 2,
   "metadata": {},
   "outputs": [
    {
     "name": "stdout",
     "output_type": "stream",
     "text": [
      "Berhasil\n"
     ]
    }
   ],
   "source": [
    "done = 'Berhasil'\n",
    "print(done)"
   ]
  }
 ],
 "metadata": {
  "interpreter": {
   "hash": "b7baba20b4f9db4e9d1265c617609b407f4c55b0f887bae201718c805d8818cf"
  },
  "kernelspec": {
   "display_name": "Python 3.9.7 ('base')",
   "language": "python",
   "name": "python3"
  },
  "language_info": {
   "codemirror_mode": {
    "name": "ipython",
    "version": 3
   },
   "file_extension": ".py",
   "mimetype": "text/x-python",
   "name": "python",
   "nbconvert_exporter": "python",
   "pygments_lexer": "ipython3",
   "version": "3.9.7"
  },
  "orig_nbformat": 4
 },
 "nbformat": 4,
 "nbformat_minor": 2
}
