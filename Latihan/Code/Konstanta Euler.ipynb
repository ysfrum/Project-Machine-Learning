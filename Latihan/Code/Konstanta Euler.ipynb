{
 "cells": [
  {
   "cell_type": "code",
   "execution_count": 8,
   "metadata": {},
   "outputs": [
    {
     "name": "stdout",
     "output_type": "stream",
     "text": [
      "         X                   Y          \n",
      "         -5                  0.006692873283488897\n",
      "\n",
      "         X                   Y          \n",
      "         -4                  0.017986257485622558\n",
      "\n",
      "         X                   Y          \n",
      "         -3                  0.04742596434225891\n",
      "\n",
      "         X                   Y          \n",
      "         -2                  0.11920306327063111\n",
      "\n",
      "         X                   Y          \n",
      "         -1                  0.26894155362156696\n",
      "\n",
      "         X                   Y          \n",
      "         0                  0.5\n",
      "\n",
      "         X                   Y          \n",
      "         1                  0.731058446378433\n",
      "\n",
      "         X                   Y          \n",
      "         2                  0.880796936729369\n",
      "\n",
      "         X                   Y          \n",
      "         3                  0.952574035657741\n",
      "\n",
      "         X                   Y          \n",
      "         4                  0.9820137425143775\n",
      "\n",
      "         X                   Y          \n",
      "         5                  0.9933071267165111\n",
      "\n"
     ]
    }
   ],
   "source": [
    "import matplotlib.pyplot as plt\n",
    "import numpy as np\n",
    "import math\n",
    "\n",
    "def f(x):\n",
    "    return 1 / (1 + (e ** -x))\n",
    "\n",
    "e = 2.71828\n",
    "x = -6\n",
    "while x != 5:\n",
    "    x += 1\n",
    "    y = f(x)\n",
    "    print('         X           ' + '        Y          ')\n",
    "    print('        ',  x             , '                ', y)\n",
    "    print()"
   ]
  },
  {
   "cell_type": "code",
   "execution_count": 9,
   "metadata": {},
   "outputs": [
    {
     "data": {
      "image/png": "[encoded data removed]",
      "text/plain": [
       "<Figure size 432x288 with 1 Axes>"
      ]
     },
     "metadata": {
      "needs_background": "light"
     },
     "output_type": "display_data"
    }
   ],
   "source": [
    "plt.scatter(x, y, edgecolors = 'black')\n",
    "\n",
    "\n",
    "a = np.linspace(x, y)\n",
    "plt.plot(a)\n",
    "plt.title('Konstanta Euler')\n",
    "plt.xlabel('X')\n",
    "plt.ylabel('Y')\n",
    "plt.show()"
   ]
  }
 ],
 "metadata": {
  "interpreter": {
   "hash": "b7baba20b4f9db4e9d1265c617609b407f4c55b0f887bae201718c805d8818cf"
  },
  "kernelspec": {
   "display_name": "Python 3.9.7 ('base')",
   "language": "python",
   "name": "python3"
  },
  "language_info": {
   "codemirror_mode": {
    "name": "ipython",
    "version": 3
   },
   "file_extension": ".py",
   "mimetype": "text/x-python",
   "name": "python",
   "nbconvert_exporter": "python",
   "pygments_lexer": "ipython3",
   "version": "3.9.7"
  },
  "orig_nbformat": 4
 },
 "nbformat": 4,
 "nbformat_minor": 2
}
