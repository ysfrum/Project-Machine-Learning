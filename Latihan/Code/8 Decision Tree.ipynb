{
 "cells": [
  {
   "cell_type": "code",
   "execution_count": 2,
   "metadata": {},
   "outputs": [
    {
     "name": "stdout",
     "output_type": "stream",
     "text": [
      "label sebenarnya  [0. 0. 0. 0. 0. 0. 0. 0. 0. 0. 1. 1. 1. 1. 1. 1. 1. 1. 1. 1.]\n",
      "hasil prediksi:  [0. 0. 0. 0. 0. 0. 0. 0. 0. 0. 1. 1. 1. 1. 1. 1. 1. 1. 1. 1.]\n",
      "prediksi benar:  20  data\n",
      "prediksi salah:  0  data\n",
      "akurasi:  100.0 %\n"
     ]
    }
   ],
   "source": [
    "#import numpy, pandas dan scikit-learn\n",
    "import numpy as np\n",
    "import pandas as pd\n",
    "from sklearn import tree\n",
    "\n",
    "#membaca dataset dari file ke pandas dataFrame\n",
    "irisDataset = pd.read_csv(\"E:\\File Program\\Semester II\\Big Data\\Klastering\\klasifikasi_dataset\\klasifikasi_dataset_iris.csv\",\n",
    "                          delimiter=',', header=0)\n",
    "#mengubah kelas (kolom \"Species\") dari string ke unique-integer\n",
    "irisDataset[\"Species\"] = pd.factorize(irisDataset.Species)[0]\n",
    "#menghapus kolom \"Id\"\n",
    "irisDataset = irisDataset.drop(labels=\"Id\", axis=1)\n",
    "\n",
    "#mengubah dataframe ke array numpy\n",
    "irisDataset = irisDataset.to_numpy()\n",
    "\n",
    "#membagi dataset, 40 baris data untuk training\n",
    "#dan 20 baris data untuk testing\n",
    "dataTraining = np.concatenate((irisDataset[0:40,:],\n",
    "                               irisDataset[50:90,:]), axis=0)\n",
    "dataTesting = np.concatenate((irisDataset[40:50,:],\n",
    "                              irisDataset[90:100,:]), axis=0)\n",
    "#memecah dataset ke input dan label\n",
    "inputTraining = dataTraining[:,0:4]\n",
    "inputTesting = dataTesting[:,0:4]\n",
    "labelTraining = dataTraining[:,4]\n",
    "labelTesting = dataTesting[:, 4]\n",
    "\n",
    "#mendefinisikan decision tree classifier\n",
    "model = tree.DecisionTreeClassifier()\n",
    "#mentraining model\n",
    "model = model.fit(inputTraining, labelTraining)\n",
    "#memprediski input data testing\n",
    "hasilPrediksi = model.predict(inputTesting)\n",
    "print(\"label sebenarnya \", labelTesting)\n",
    "print(\"hasil prediksi: \", hasilPrediksi)\n",
    "#menghitung akurasi\n",
    "prediksiBenar = (hasilPrediksi == labelTesting).sum()\n",
    "prediksiSalah = (hasilPrediksi != labelTesting).sum()\n",
    "print(\"prediksi benar: \", prediksiBenar, \" data\")\n",
    "print(\"prediksi salah: \", prediksiSalah, \" data\")\n",
    "print(\"akurasi: \", prediksiBenar/(prediksiBenar+prediksiSalah)\n",
    "      * 100, \"%\")"
   ]
  },
  {
   "cell_type": "code",
   "execution_count": 3,
   "metadata": {},
   "outputs": [
    {
     "name": "stdout",
     "output_type": "stream",
     "text": [
      "Berhasil\n"
     ]
    }
   ],
   "source": [
    "done = \"Berhasil\"\n",
    "print(done)"
   ]
  }
 ],
 "metadata": {
  "interpreter": {
   "hash": "b7baba20b4f9db4e9d1265c617609b407f4c55b0f887bae201718c805d8818cf"
  },
  "kernelspec": {
   "display_name": "Python 3.9.7 ('base')",
   "language": "python",
   "name": "python3"
  },
  "language_info": {
   "codemirror_mode": {
    "name": "ipython",
    "version": 3
   },
   "file_extension": ".py",
   "mimetype": "text/x-python",
   "name": "python",
   "nbconvert_exporter": "python",
   "pygments_lexer": "ipython3",
   "version": "3.9.7"
  },
  "orig_nbformat": 4
 },
 "nbformat": 4,
 "nbformat_minor": 2
}
